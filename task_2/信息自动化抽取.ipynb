{
 "cells": [
  {
   "cell_type": "code",
   "execution_count": 6,
   "metadata": {},
   "outputs": [],
   "source": [
    "from __future__ import print_function, unicode_literals\n",
    "from bosonnlp import BosonNLP\n",
    "import json\n",
    "import re\n",
    "import os\n",
    "import os.path as op"
   ]
  },
  {
   "cell_type": "code",
   "execution_count": 5,
   "metadata": {},
   "outputs": [],
   "source": [
    "def words_cut(filename):#分词，返回列表\n",
    "    nlp = BosonNLP('QhCMB7FS.33943.0OYvhfw0JCx8')\n",
    "    text_cut = []\n",
    "    with open(filename, 'r', encoding='utf-8') as f:\n",
    "        for line in f.readlines():\n",
    "            line_list = nlp.tag(line)[0]['word']#分词，返回一个嵌套的列表格式为[{'word':[分好的词], ''}]\n",
    "            line_str = \" \".join(line_list)+'\\n'#将列表连接为字符串\n",
    "            text_cut.append(line_str)\n",
    "    return text_cut"
   ]
  },
  {
   "cell_type": "code",
   "execution_count": 6,
   "metadata": {},
   "outputs": [],
   "source": [
    "def read_regex(filename):\n",
    "    '''读取正则文件，返回一个字典'''\n",
    "    with open(filename,'r',encoding='utf8') as f:\n",
    "        dict_str = f.read()\n",
    "        dict_ = eval(dict_str)\n",
    "        return dict_"
   ]
  },
  {
   "cell_type": "code",
   "execution_count": 7,
   "metadata": {},
   "outputs": [],
   "source": [
    "def read_academician(filename):\n",
    "    lines = []\n",
    "    with open(filename,'r',encoding='utf-8') as f:\n",
    "        for line in f.readlines():\n",
    "            lines.append(line)\n",
    "    return lines"
   ]
  },
  {
   "cell_type": "code",
   "execution_count": 8,
   "metadata": {},
   "outputs": [],
   "source": [
    "def traversal(dict_, lines):\n",
    "    '''遍历一个正则字典，抽取信息\n",
    "    dict_:正则字典\n",
    "    lines:待抽取的文本，用列表表示\n",
    "    dic:字典，用于存储抽取出来的信息\n",
    "    return: 一个字典，里面是抽出来的信息'''\n",
    "    dict_result = {}\n",
    "    for key, value in dict_.items():\n",
    "        if isinstance(value,dict):#如果值是字典，递归遍历\n",
    "            dict_result[key] = traversal(value, lines)#将返回的字典存入信息字典中，不破坏原来的结构\n",
    "        else :#否则是正则表达式，进行抽取\n",
    "            for line in lines:#对于每一个正则，遍历院士信息所有行，寻求匹配\n",
    "                line = line.strip()#去除两端的空白符\n",
    "                result = re.findall(value,line)      \n",
    "                if result:#如果匹配到结果\n",
    "                    result = re.sub(r'\\s*','',result[0])#去除空白符\n",
    "                    dict_result[key] = result\n",
    "    return dict_result"
   ]
  },
  {
   "cell_type": "code",
   "execution_count": 9,
   "metadata": {},
   "outputs": [],
   "source": [
    "def save_dict(dict,filename):\n",
    "    with open(filename,'w',encoding='utf-8') as f:\n",
    "        json.dump(dict,f,ensure_ascii=False)"
   ]
  },
  {
   "cell_type": "code",
   "execution_count": 10,
   "metadata": {},
   "outputs": [],
   "source": [
    "def save_cut(text_cut, filename):\n",
    "    with open(filename, 'w', encoding='utf-8') as f:\n",
    "        f.writelines(text_cut)"
   ]
  },
  {
   "cell_type": "code",
   "execution_count": 11,
   "metadata": {},
   "outputs": [],
   "source": [
    "def main():\n",
    "    #获取当前文件夹下所有的文件\n",
    "    text_list = []\n",
    "    for root, dirs, files in os.walk('D:\\JupyterNotebook\\精准简历\\院士信息'):#默认为广度优先，root为当前目录，\n",
    "        #dirs为当前目录下的目录，files为当前目录下的文件。\n",
    "        if files:\n",
    "            for name in files:\n",
    "                text_list.append(os.path.join(root, name))\n",
    "    #对每一个文件进行分词\n",
    "    for txt in text_list:\n",
    "        dirpath = op.dirname(txt)#获取txt的路径\n",
    "        dirpath = dirpath.replace('院士信息', '分词')\n",
    "        if not op.exists(dirpath):\n",
    "            os.mkdir(dirpath)\n",
    "        txtname = op.basename(txt)#获取最底层的名字（文件名）\n",
    "        save_path = op.join(dirpath, txtname) #替换文件夹，将二者结合成新的路径\n",
    "        text_cut = words_cut(txt)\n",
    "        save_cut(text_cut,save_path)\n",
    "#     #获取所有已经分词的文件    \n",
    "    text_list = []\n",
    "    for root, dirs, files in os.walk('D:\\JupyterNotebook\\精准简历\\分词'):#默认为广度优先\n",
    "        if files:\n",
    "            for name in files:\n",
    "                text_list.append(os.path.join(root, name))\n",
    "    #读取正则表达式\n",
    "    filename='regexpression.txt'\n",
    "    dict_ = read_regex(filename)\n",
    "    #信息抽取\n",
    "    for txt in text_list:\n",
    "        dirpath = op.dirname(txt)#获取路径\n",
    "        dirpath = dirpath.replace('分词', '简历')\n",
    "        if not op.exists(dirpath):\n",
    "            os.mkdir(dirpath)\n",
    "        txtname = op.basename(txt)#获取最底层的名字（文件名）\n",
    "        save_path = op.join(dirpath, txtname) #将二者结合成新的路径\n",
    "        lines = read_academician(txt)\n",
    "        dict_jiben = traversal(dict_,lines)\n",
    "        save_dict(dict_jiben,save_path)"
   ]
  },
  {
   "cell_type": "code",
   "execution_count": 12,
   "metadata": {},
   "outputs": [],
   "source": [
    "main()"
   ]
  },
  {
   "cell_type": "code",
   "execution_count": 1,
   "metadata": {},
   "outputs": [],
   "source": [
    "from jieba import cut"
   ]
  },
  {
   "cell_type": "code",
   "execution_count": 32,
   "metadata": {},
   "outputs": [
    {
     "name": "stdout",
     "output_type": "stream",
     "text": [
      "于 本水 ：\n",
      "百度 百科 ：\n",
      "基本 信息 ：\n",
      "中文名 : 于 本水\n",
      "国籍 : 中国\n",
      "出生地 : 吉林省 九台市\n",
      "出生日期 : 1934 年 5 月 1 日\n",
      "职业 : 工程师\n",
      "毕业 院校 : 斯 莫斯科 航空学院\n",
      "主要 成就 : 国家科技进步奖 特等奖 ， 国家科技进步奖 一等奖 ， 国防 科学奖 一等奖\n",
      "代表作品 : 《 近程 舰空 导弹 设计 与 试验 》 ， 《 系统工程 与 无人驾驶 飞行器 设计 》\n",
      "\n",
      "人物 经历 ：\n",
      "高中毕业 于 长春市 市 实验 中学 。\n",
      "1960 年 毕业 于 莫斯科 航空学院 。 一直 工作 于 航天 科工 集团 第二 研究院 （ 原 国防部 第五 研究院 二分院 ） 。 [ 2 ]\n",
      "曾任 研究室 主任 、 总工程师 、 副总 设计师 和 总 设计师 等 职务 。\n",
      "\n",
      "社会 任职 ：\n",
      "\n",
      "主要 成就 ：\n",
      "四次 荣立 一等功 ， 曾 荣获 中国航天 系统 有 突出贡献 专家 和 中国航天 科工 二院 知名 专家 等 称号 。 [ 1 ]\n",
      "先后 参加 和 主持 多种 导弹 研制 。 上 世纪 60 年代 参加 我国 第一代 防空 导弹 生产 和 研制 ， 在 解决 拦截 高空 高速 机动 目标 方面 做出 了 重要 贡献 。 80 年代 主持 和 参加 攻破 我国 第二代 防空 导弹 快速反应 拦截 超低空 目标 等 关键技术 。 主持 研制成功 我国 首型 具有 拦截 掠海 目标 能力 的 舰空 导弹 ， 达到 世界 先进 水平 。 担任 我国 首型 具有 反 精确 制导武器 能力 的 野战 防空 导弹 总 设计师 ， 为 其 研制成功 做出 了 突出贡献 。 在 国内 率先 开展 了 防空 反导 导弹 优化 设计 和 弹族化 智能化 导弹 等 前沿 课题 研究 。 主要 著译 作有 “ 防空 导弹 总体设计 ” “ 近程 舰空 导弹 设计 与 试验 ” 和 “ 系统工程 与 无人驾驶 飞行器 设计 ” 等 。 曾 荣获 国家科技进步奖 特等奖 、 国家科技进步奖 一等奖 和 国防 科学奖 一等奖 等 。 [ 1 ] [ 3 ]\n",
      "\n"
     ]
    }
   ],
   "source": [
    "file = \"院士信息/于本水/于本水_百度百科.txt\"\n",
    "with open(file, 'r', encoding='utf-8') as f:\n",
    "    for line in f.readlines():\n",
    "        line = line.strip()\n",
    "        seg_line = cut(line)\n",
    "        line_str = \" \".join(seg_line)\n",
    "        print(line_str)"
   ]
  },
  {
   "cell_type": "code",
   "execution_count": 11,
   "metadata": {},
   "outputs": [
    {
     "name": "stdout",
     "output_type": "stream",
     "text": [
      "['于', '本', '水', '：']\n",
      "['百度', '百科', '：']\n",
      "['基本', '信息', '：']\n",
      "['中文', '名', ':', '于', '本', '水']\n",
      "['国籍', ':', '中国']\n",
      "['出生地', ':', '吉林省', '九台市']\n",
      "['出生', '日期', ':', '1934年', '5月', '1日']\n",
      "['职业', ':', '工程师']\n",
      "['毕业', '院校', ':', '斯', '莫斯科', '航空', '学院']\n",
      "['主要', '成就', ':', '国家', '科技', '进步奖', '特等奖', '，', '国家', '科技', '进步奖', '一等奖', '，', '国防', '科学奖', '一等奖']\n",
      "['代表', '作品', ':', '《', '近', '程舰空', '导弹', '设计', '与', '试验', '》', '，', '《', '系统工程', '与', '无', '人', '驾驶', '飞行器', '设计', '》']\n",
      "[]\n",
      "['人物', '经历', '：']\n",
      "['高中', '毕业', '于', '长春市市', '实验', '中学', '。']\n",
      "['1960年', '毕业', '于', '莫斯科', '航空', '学院', '。', '一直', '工作', '于', '航天', '科工', '集团', '第二', '研究院', '（', '原', '国防部', '第五', '研究院', '二', '分院', '）', '。', '[', '2', ']']\n",
      "['曾', '任', '研究室', '主任', '、', '总工程师', '、', '副', '总', '设计师', '和', '总', '设计师', '等', '职务', '。']\n",
      "[]\n",
      "['社会', '任职', '：']\n",
      "[]\n",
      "['主要', '成就', '：']\n",
      "['四', '次', '荣立', '一等功', '，', '曾', '荣获', '中国', '航天', '系统', '有', '突出', '贡献', '专家', '和', '中国', '航天', '科工', '二', '院', '知名', '专家', '等', '称号', '。', '[', '1', ']']\n",
      "['先后', '参加', '和', '主持', '多种', '导弹', '研制', '。', '上', '世纪', '60', '年代', '参加', '我国', '第一', '代', '防空', '导弹', '生产', '和', '研制', '，', '在', '解决', '拦截', '高空', '高速', '机动', '目标', '方面', '做出', '了', '重要', '贡献', '。', '80', '年代', '主持', '和', '参加', '攻破', '我国', '第二', '代', '防空', '导弹', '快速', '反应', '拦截', '超低空', '目标', '等', '关键', '技术', '。', '主持', '研制', '成功', '我国', '首型', '具有', '拦截', '掠', '海', '目标', '能力', '的', '舰空', '导弹', '，', '达到', '世界', '先进', '水平', '。', '担任', '我国', '首型', '具有', '反', '精确', '制导', '武器', '能力', '的', '野战', '防空', '导弹', '总', '设计师', '，', '为', '其', '研制', '成功', '做出', '了', '突出', '贡献', '。', '在', '国内', '率先', '开展', '了', '防空', '反导', '导弹', '优化', '设计', '和', '弹族化', '智能化', '导弹', '等', '前沿', '课题', '研究', '。', '主要', '著译', '作', '有', '“', '防空', '导弹', '总体', '设计', '”', '“', '近', '程舰空', '导弹', '设计', '与', '试验', '”', '和', '“', '系统工程', '与', '无', '人', '驾驶', '飞行器', '设计', '”', '等', '。', '曾', '荣获', '国家', '科技', '进步奖', '特等奖', '、', '国家', '科技', '进步奖', '一等奖', '和', '国防', '科学奖', '一等奖', '等', '。', '[', '1', ']', '[', '3', ']']\n",
      "[]\n"
     ]
    }
   ],
   "source": [
    "nlp = BosonNLP('QhCMB7FS.33943.0OYvhfw0JCx8')\n",
    "text_cut = []\n",
    "with open(file, 'r', encoding='utf-8') as f:\n",
    "    for line in f.readlines():\n",
    "        line_list = nlp.tag(line)[0]['word']#分词，返回一个嵌套的列表格式为[{'word':[分好的词], ''}]\n",
    "        print(line_list)\n",
    "        line_str = \" \".join(line_list)#将列表连接为字符串\n",
    "        text_cut.append(line_str)"
   ]
  },
  {
   "cell_type": "code",
   "execution_count": 29,
   "metadata": {},
   "outputs": [],
   "source": [
    "seg = cut(\"先后参加和主持多种导弹研制。上世纪60年代参加我国第一代防空导弹生产和研制，在解决拦截高空高速机动目标方面做出了重要贡献。80年代主持和参加攻破我国第二代防空导弹快速反应拦截超低空目标等关键技术。主持研制成功我国首型具有拦截掠海目标能力的舰空导弹，达到世界先进水平。担任我国首型具有反精确制导武器能力的野战防空导弹总设计师，为其研制成功做出了突出贡献。在国内率先开展了防空反导导弹优化设计和弹族化智能化导弹等前沿课题研究。主要著译作有“防空导弹总体设计”“近程舰空导弹设计与试验”和“系统工程与无人驾驶飞行器设计”等。曾荣获国家科技进步奖特等奖、国家科技进步奖一等奖和国防科学奖一等奖等。\")"
   ]
  },
  {
   "cell_type": "code",
   "execution_count": 26,
   "metadata": {},
   "outputs": [
    {
     "data": {
      "text/plain": [
       "''"
      ]
     },
     "execution_count": 26,
     "metadata": {},
     "output_type": "execute_result"
    }
   ],
   "source": [
    "\" \".join(seg)#seg是生成器类型，只可遍历一遍。"
   ]
  },
  {
   "cell_type": "code",
   "execution_count": 30,
   "metadata": {},
   "outputs": [
    {
     "data": {
      "text/plain": [
       "['先后',\n",
       " '参加',\n",
       " '和',\n",
       " '主持',\n",
       " '多种',\n",
       " '导弹',\n",
       " '研制',\n",
       " '。',\n",
       " '上',\n",
       " '世纪',\n",
       " '60',\n",
       " '年代',\n",
       " '参加',\n",
       " '我国',\n",
       " '第一代',\n",
       " '防空',\n",
       " '导弹',\n",
       " '生产',\n",
       " '和',\n",
       " '研制',\n",
       " '，',\n",
       " '在',\n",
       " '解决',\n",
       " '拦截',\n",
       " '高空',\n",
       " '高速',\n",
       " '机动',\n",
       " '目标',\n",
       " '方面',\n",
       " '做出',\n",
       " '了',\n",
       " '重要',\n",
       " '贡献',\n",
       " '。',\n",
       " '80',\n",
       " '年代',\n",
       " '主持',\n",
       " '和',\n",
       " '参加',\n",
       " '攻破',\n",
       " '我国',\n",
       " '第二代',\n",
       " '防空',\n",
       " '导弹',\n",
       " '快速反应',\n",
       " '拦截',\n",
       " '超低空',\n",
       " '目标',\n",
       " '等',\n",
       " '关键技术',\n",
       " '。',\n",
       " '主持',\n",
       " '研制成功',\n",
       " '我国',\n",
       " '首型',\n",
       " '具有',\n",
       " '拦截',\n",
       " '掠海',\n",
       " '目标',\n",
       " '能力',\n",
       " '的',\n",
       " '舰空',\n",
       " '导弹',\n",
       " '，',\n",
       " '达到',\n",
       " '世界',\n",
       " '先进',\n",
       " '水平',\n",
       " '。',\n",
       " '担任',\n",
       " '我国',\n",
       " '首型',\n",
       " '具有',\n",
       " '反',\n",
       " '精确',\n",
       " '制导武器',\n",
       " '能力',\n",
       " '的',\n",
       " '野战',\n",
       " '防空',\n",
       " '导弹',\n",
       " '总',\n",
       " '设计师',\n",
       " '，',\n",
       " '为',\n",
       " '其',\n",
       " '研制成功',\n",
       " '做出',\n",
       " '了',\n",
       " '突出贡献',\n",
       " '。',\n",
       " '在',\n",
       " '国内',\n",
       " '率先',\n",
       " '开展',\n",
       " '了',\n",
       " '防空',\n",
       " '反导',\n",
       " '导弹',\n",
       " '优化',\n",
       " '设计',\n",
       " '和',\n",
       " '弹族化',\n",
       " '智能化',\n",
       " '导弹',\n",
       " '等',\n",
       " '前沿',\n",
       " '课题',\n",
       " '研究',\n",
       " '。',\n",
       " '主要',\n",
       " '著译',\n",
       " '作有',\n",
       " '“',\n",
       " '防空',\n",
       " '导弹',\n",
       " '总体设计',\n",
       " '”',\n",
       " '“',\n",
       " '近程',\n",
       " '舰空',\n",
       " '导弹',\n",
       " '设计',\n",
       " '与',\n",
       " '试验',\n",
       " '”',\n",
       " '和',\n",
       " '“',\n",
       " '系统工程',\n",
       " '与',\n",
       " '无人驾驶',\n",
       " '飞行器',\n",
       " '设计',\n",
       " '”',\n",
       " '等',\n",
       " '。',\n",
       " '曾',\n",
       " '荣获',\n",
       " '国家科技进步奖',\n",
       " '特等奖',\n",
       " '、',\n",
       " '国家科技进步奖',\n",
       " '一等奖',\n",
       " '和',\n",
       " '国防',\n",
       " '科学奖',\n",
       " '一等奖',\n",
       " '等',\n",
       " '。']"
      ]
     },
     "execution_count": 30,
     "metadata": {},
     "output_type": "execute_result"
    }
   ],
   "source": [
    "list(seg)"
   ]
  },
  {
   "cell_type": "code",
   "execution_count": 31,
   "metadata": {},
   "outputs": [
    {
     "data": {
      "text/plain": [
       "[]"
      ]
     },
     "execution_count": 31,
     "metadata": {},
     "output_type": "execute_result"
    }
   ],
   "source": [
    "list(seg)"
   ]
  },
  {
   "cell_type": "code",
   "execution_count": null,
   "metadata": {},
   "outputs": [],
   "source": []
  }
 ],
 "metadata": {
  "kernelspec": {
   "display_name": "Python 3",
   "language": "python",
   "name": "python3"
  },
  "language_info": {
   "codemirror_mode": {
    "name": "ipython",
    "version": 3
   },
   "file_extension": ".py",
   "mimetype": "text/x-python",
   "name": "python",
   "nbconvert_exporter": "python",
   "pygments_lexer": "ipython3",
   "version": "3.6.8"
  }
 },
 "nbformat": 4,
 "nbformat_minor": 2
}
